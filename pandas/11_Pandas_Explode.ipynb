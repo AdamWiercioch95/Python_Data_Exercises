{
 "cells": [
  {
   "cell_type": "code",
   "id": "initial_id",
   "metadata": {
    "collapsed": true,
    "ExecuteTime": {
     "end_time": "2024-09-10T09:13:03.156576Z",
     "start_time": "2024-09-10T09:12:51.574642Z"
    }
   },
   "source": [
    "#Importing Libraries\n",
    "import ast\n",
    "import pandas as pd\n",
    "from datasets import load_dataset\n",
    "import matplotlib.pyplot as plt\n",
    "\n",
    "# Loading Data\n",
    "dataset = load_dataset('lukebarousse/data_jobs')\n",
    "df = dataset['train'].to_pandas()\n",
    "\n",
    "# Data Cleanup\n",
    "df['job_posted_date'] = pd.to_datetime(df['job_posted_date'])  # converting job_posted_date to datetime object\n",
    "df['job_skills'] = df['job_skills'].apply(lambda data: ast.literal_eval(data) if pd.notna(data) else data)  # converting job_skills to list"
   ],
   "outputs": [],
   "execution_count": 2
  },
  {
   "metadata": {},
   "cell_type": "markdown",
   "source": "# Examples",
   "id": "477086e74460716b"
  },
  {
   "metadata": {
    "ExecuteTime": {
     "end_time": "2024-09-10T09:14:40.641271Z",
     "start_time": "2024-09-10T09:14:40.599231Z"
    }
   },
   "cell_type": "code",
   "source": "df[['job_title_short', 'job_skills']].head()",
   "id": "65932f1841122bdd",
   "outputs": [
    {
     "data": {
      "text/plain": [
       "        job_title_short                                         job_skills\n",
       "0  Senior Data Engineer                                               None\n",
       "1          Data Analyst         [r, python, sql, nosql, power bi, tableau]\n",
       "2         Data Engineer  [python, sql, c#, azure, airflow, dax, docker,...\n",
       "3         Data Engineer  [python, c++, java, matlab, aws, tensorflow, k...\n",
       "4         Data Engineer  [bash, python, oracle, aws, ansible, puppet, j..."
      ],
      "text/html": [
       "<div>\n",
       "<style scoped>\n",
       "    .dataframe tbody tr th:only-of-type {\n",
       "        vertical-align: middle;\n",
       "    }\n",
       "\n",
       "    .dataframe tbody tr th {\n",
       "        vertical-align: top;\n",
       "    }\n",
       "\n",
       "    .dataframe thead th {\n",
       "        text-align: right;\n",
       "    }\n",
       "</style>\n",
       "<table border=\"1\" class=\"dataframe\">\n",
       "  <thead>\n",
       "    <tr style=\"text-align: right;\">\n",
       "      <th></th>\n",
       "      <th>job_title_short</th>\n",
       "      <th>job_skills</th>\n",
       "    </tr>\n",
       "  </thead>\n",
       "  <tbody>\n",
       "    <tr>\n",
       "      <th>0</th>\n",
       "      <td>Senior Data Engineer</td>\n",
       "      <td>None</td>\n",
       "    </tr>\n",
       "    <tr>\n",
       "      <th>1</th>\n",
       "      <td>Data Analyst</td>\n",
       "      <td>[r, python, sql, nosql, power bi, tableau]</td>\n",
       "    </tr>\n",
       "    <tr>\n",
       "      <th>2</th>\n",
       "      <td>Data Engineer</td>\n",
       "      <td>[python, sql, c#, azure, airflow, dax, docker,...</td>\n",
       "    </tr>\n",
       "    <tr>\n",
       "      <th>3</th>\n",
       "      <td>Data Engineer</td>\n",
       "      <td>[python, c++, java, matlab, aws, tensorflow, k...</td>\n",
       "    </tr>\n",
       "    <tr>\n",
       "      <th>4</th>\n",
       "      <td>Data Engineer</td>\n",
       "      <td>[bash, python, oracle, aws, ansible, puppet, j...</td>\n",
       "    </tr>\n",
       "  </tbody>\n",
       "</table>\n",
       "</div>"
      ]
     },
     "execution_count": 3,
     "metadata": {},
     "output_type": "execute_result"
    }
   ],
   "execution_count": 3
  },
  {
   "metadata": {
    "ExecuteTime": {
     "end_time": "2024-09-10T09:16:43.389099Z",
     "start_time": "2024-09-10T09:16:37.055904Z"
    }
   },
   "cell_type": "code",
   "source": "df_exploded = df.explode('job_skills')",
   "id": "87fb1eecb1e19c84",
   "outputs": [],
   "execution_count": 4
  },
  {
   "metadata": {
    "ExecuteTime": {
     "end_time": "2024-09-10T09:17:35.828675Z",
     "start_time": "2024-09-10T09:17:35.287595Z"
    }
   },
   "cell_type": "code",
   "source": "df_exploded['job_skills'].value_counts().head(10).plot(kind='bar')",
   "id": "c33893b6b9b9d110",
   "outputs": [
    {
     "data": {
      "text/plain": [
       "<Axes: xlabel='job_skills'>"
      ]
     },
     "execution_count": 5,
     "metadata": {},
     "output_type": "execute_result"
    },
    {
     "data": {
      "text/plain": [
       "<Figure size 640x480 with 1 Axes>"
      ],
      "image/png": "[encoded data removed]"
     },
     "metadata": {},
     "output_type": "display_data"
    }
   ],
   "execution_count": 5
  },
  {
   "metadata": {
    "ExecuteTime": {
     "end_time": "2024-09-10T09:26:26.721593Z",
     "start_time": "2024-09-10T09:26:26.172080Z"
    }
   },
   "cell_type": "code",
   "source": [
    "skills_count = df_exploded.groupby(['job_title_short', 'job_skills']).size()\n",
    "\n",
    "type(skills_count)"
   ],
   "id": "7fa554f792f26803",
   "outputs": [
    {
     "data": {
      "text/plain": [
       "pandas.core.series.Series"
      ]
     },
     "execution_count": 7,
     "metadata": {},
     "output_type": "execute_result"
    }
   ],
   "execution_count": 7
  },
  {
   "metadata": {
    "ExecuteTime": {
     "end_time": "2024-09-10T09:28:19.393294Z",
     "start_time": "2024-09-10T09:28:19.383568Z"
    }
   },
   "cell_type": "code",
   "source": [
    "df_skills_count = skills_count.reset_index(name='skills_count')\n",
    "df_skills_count = df_skills_count.sort_values(by='skills_count', ascending=False)\n",
    "\n",
    "df_skills_count"
   ],
   "id": "4a49ba3558e90fbb",
   "outputs": [
    {
     "data": {
      "text/plain": [
       "       job_title_short  job_skills  skills_count\n",
       "1066    Data Scientist      python        113711\n",
       "865      Data Engineer         sql        113130\n",
       "830      Data Engineer      python        108022\n",
       "625       Data Analyst         sql         92428\n",
       "1101    Data Scientist         sql         78982\n",
       "...                ...         ...           ...\n",
       "462       Data Analyst     chainer             1\n",
       "432     Cloud Engineer       wrike             1\n",
       "410     Cloud Engineer      theano             1\n",
       "24    Business Analyst     chainer             1\n",
       "29    Business Analyst  codecommit             1\n",
       "\n",
       "[2256 rows x 3 columns]"
      ],
      "text/html": [
       "<div>\n",
       "<style scoped>\n",
       "    .dataframe tbody tr th:only-of-type {\n",
       "        vertical-align: middle;\n",
       "    }\n",
       "\n",
       "    .dataframe tbody tr th {\n",
       "        vertical-align: top;\n",
       "    }\n",
       "\n",
       "    .dataframe thead th {\n",
       "        text-align: right;\n",
       "    }\n",
       "</style>\n",
       "<table border=\"1\" class=\"dataframe\">\n",
       "  <thead>\n",
       "    <tr style=\"text-align: right;\">\n",
       "      <th></th>\n",
       "      <th>job_title_short</th>\n",
       "      <th>job_skills</th>\n",
       "      <th>skills_count</th>\n",
       "    </tr>\n",
       "  </thead>\n",
       "  <tbody>\n",
       "    <tr>\n",
       "      <th>1066</th>\n",
       "      <td>Data Scientist</td>\n",
       "      <td>python</td>\n",
       "      <td>113711</td>\n",
       "    </tr>\n",
       "    <tr>\n",
       "      <th>865</th>\n",
       "      <td>Data Engineer</td>\n",
       "      <td>sql</td>\n",
       "      <td>113130</td>\n",
       "    </tr>\n",
       "    <tr>\n",
       "      <th>830</th>\n",
       "      <td>Data Engineer</td>\n",
       "      <td>python</td>\n",
       "      <td>108022</td>\n",
       "    </tr>\n",
       "    <tr>\n",
       "      <th>625</th>\n",
       "      <td>Data Analyst</td>\n",
       "      <td>sql</td>\n",
       "      <td>92428</td>\n",
       "    </tr>\n",
       "    <tr>\n",
       "      <th>1101</th>\n",
       "      <td>Data Scientist</td>\n",
       "      <td>sql</td>\n",
       "      <td>78982</td>\n",
       "    </tr>\n",
       "    <tr>\n",
       "      <th>...</th>\n",
       "      <td>...</td>\n",
       "      <td>...</td>\n",
       "      <td>...</td>\n",
       "    </tr>\n",
       "    <tr>\n",
       "      <th>462</th>\n",
       "      <td>Data Analyst</td>\n",
       "      <td>chainer</td>\n",
       "      <td>1</td>\n",
       "    </tr>\n",
       "    <tr>\n",
       "      <th>432</th>\n",
       "      <td>Cloud Engineer</td>\n",
       "      <td>wrike</td>\n",
       "      <td>1</td>\n",
       "    </tr>\n",
       "    <tr>\n",
       "      <th>410</th>\n",
       "      <td>Cloud Engineer</td>\n",
       "      <td>theano</td>\n",
       "      <td>1</td>\n",
       "    </tr>\n",
       "    <tr>\n",
       "      <th>24</th>\n",
       "      <td>Business Analyst</td>\n",
       "      <td>chainer</td>\n",
       "      <td>1</td>\n",
       "    </tr>\n",
       "    <tr>\n",
       "      <th>29</th>\n",
       "      <td>Business Analyst</td>\n",
       "      <td>codecommit</td>\n",
       "      <td>1</td>\n",
       "    </tr>\n",
       "  </tbody>\n",
       "</table>\n",
       "<p>2256 rows × 3 columns</p>\n",
       "</div>"
      ]
     },
     "execution_count": 10,
     "metadata": {},
     "output_type": "execute_result"
    }
   ],
   "execution_count": 10
  },
  {
   "metadata": {
    "ExecuteTime": {
     "end_time": "2024-09-10T09:37:32.099101Z",
     "start_time": "2024-09-10T09:37:31.976297Z"
    }
   },
   "cell_type": "code",
   "source": [
    "job_title = 'Data Analyst'\n",
    "top_skills = 10\n",
    "\n",
    "df_skills_final = df_skills_count[df_skills_count['job_title_short'] == job_title].head(top_skills)\n",
    "df_skills_final.plot(kind='barh', x='job_skills', y='skills_count')\n",
    "plt.gca().invert_yaxis()\n",
    "plt.title(f'Top {top_skills} Skills for {job_title}s')\n",
    "plt.xlabel('Job Postings Count')\n",
    "plt.ylabel('')\n",
    "plt.legend().set_visible(False)\n",
    "plt.show()"
   ],
   "id": "f0bcaf0fde2212fb",
   "outputs": [
    {
     "data": {
      "text/plain": [
       "<Figure size 640x480 with 1 Axes>"
      ],
      "image/png": "[encoded data removed]"
     },
     "metadata": {},
     "output_type": "display_data"
    }
   ],
   "execution_count": 27
  },
  {
   "metadata": {},
   "cell_type": "markdown",
   "source": "# Exercises",
   "id": "776e0b8c87067637"
  },
  {
   "metadata": {
    "ExecuteTime": {
     "end_time": "2024-09-10T09:45:45.044743Z",
     "start_time": "2024-09-10T09:45:44.829313Z"
    }
   },
   "cell_type": "code",
   "source": [
    "# Explode the job_skills column in the DataFrame and create a bar plot using pandas of the top 10 most common skills for Cloud Engineer.\n",
    "# Add labels for the x-axis (label as 'Skills'), y-axis (label as 'Count') and a title (set as 'Top 10 Most Common Skills for Cloud Engineers') for the plot.\n",
    "\n",
    "exercise_1_filtered = df[df['job_title_short'] == 'Cloud Engineer'].copy()\n",
    "exercise_1_exploded = exercise_1_filtered.explode('job_skills')\n",
    "exercise_1_exploded = exercise_1_exploded['job_skills'].value_counts()\n",
    "exercise_1_exploded = exercise_1_exploded.sort_values(ascending=False).head(10).plot(kind='bar', x='Skills', y='Count', title='Top 10 Most Common Skills for Cloud Engineers')"
   ],
   "id": "36770cc199d27d5a",
   "outputs": [
    {
     "data": {
      "text/plain": [
       "<Figure size 640x480 with 1 Axes>"
      ],
      "image/png": "[encoded data removed]"
     },
     "metadata": {},
     "output_type": "display_data"
    }
   ],
   "execution_count": 30
  },
  {
   "metadata": {
    "ExecuteTime": {
     "end_time": "2024-09-10T09:53:18.877343Z",
     "start_time": "2024-09-10T09:53:16.961376Z"
    }
   },
   "cell_type": "code",
   "source": [
    "# Explode the job_skills column in the DataFrame and calculate the average salary for each skill. Display the top 5 skills with the highest average salary.\n",
    "\n",
    "exercise_2_exploded = df.explode('job_skills')\n",
    "exercise_2_grouped = exercise_2_exploded.groupby('job_skills')['salary_year_avg'].mean().reset_index()\n",
    "exercise_2_grouped = exercise_2_grouped.sort_values(by='salary_year_avg', ascending=False).head(5)\n",
    "exercise_2_grouped"
   ],
   "id": "fbbb8edd18da827a",
   "outputs": [
    {
     "data": {
      "text/plain": [
       "      job_skills  salary_year_avg\n",
       "46        debian    196500.000000\n",
       "177  ringcentral    182500.000000\n",
       "114          lua    170500.000000\n",
       "126        mongo    169526.929749\n",
       "54         dplyr    160667.210526"
      ],
      "text/html": [
       "<div>\n",
       "<style scoped>\n",
       "    .dataframe tbody tr th:only-of-type {\n",
       "        vertical-align: middle;\n",
       "    }\n",
       "\n",
       "    .dataframe tbody tr th {\n",
       "        vertical-align: top;\n",
       "    }\n",
       "\n",
       "    .dataframe thead th {\n",
       "        text-align: right;\n",
       "    }\n",
       "</style>\n",
       "<table border=\"1\" class=\"dataframe\">\n",
       "  <thead>\n",
       "    <tr style=\"text-align: right;\">\n",
       "      <th></th>\n",
       "      <th>job_skills</th>\n",
       "      <th>salary_year_avg</th>\n",
       "    </tr>\n",
       "  </thead>\n",
       "  <tbody>\n",
       "    <tr>\n",
       "      <th>46</th>\n",
       "      <td>debian</td>\n",
       "      <td>196500.000000</td>\n",
       "    </tr>\n",
       "    <tr>\n",
       "      <th>177</th>\n",
       "      <td>ringcentral</td>\n",
       "      <td>182500.000000</td>\n",
       "    </tr>\n",
       "    <tr>\n",
       "      <th>114</th>\n",
       "      <td>lua</td>\n",
       "      <td>170500.000000</td>\n",
       "    </tr>\n",
       "    <tr>\n",
       "      <th>126</th>\n",
       "      <td>mongo</td>\n",
       "      <td>169526.929749</td>\n",
       "    </tr>\n",
       "    <tr>\n",
       "      <th>54</th>\n",
       "      <td>dplyr</td>\n",
       "      <td>160667.210526</td>\n",
       "    </tr>\n",
       "  </tbody>\n",
       "</table>\n",
       "</div>"
      ]
     },
     "execution_count": 37,
     "metadata": {},
     "output_type": "execute_result"
    }
   ],
   "execution_count": 37
  },
  {
   "metadata": {
    "ExecuteTime": {
     "end_time": "2024-09-10T10:01:54.834681Z",
     "start_time": "2024-09-10T10:01:52.789308Z"
    }
   },
   "cell_type": "code",
   "source": [
    "# Explode the job_skills column in the DataFrame and calculate the number of unique skills for each job posting. Display the first 5 rows of the resulting DataFrame with a new column num_unique_skills.\n",
    "\n",
    "exercise_3_exploded = df.explode('job_skills')\n",
    "exercise_3_grouped = exercise_3_exploded.groupby('job_title_short')['job_skills'].nunique().reset_index()\n",
    "exercise_3_grouped.columns = ['job_title_short', 'num_unique_skills']\n",
    "exercise_3_grouped\n"
   ],
   "id": "edff162c1888418c",
   "outputs": [
    {
     "data": {
      "text/plain": [
       "             job_title_short  num_unique_skills\n",
       "0           Business Analyst                223\n",
       "1             Cloud Engineer                213\n",
       "2               Data Analyst                235\n",
       "3              Data Engineer                239\n",
       "4             Data Scientist                237\n",
       "5  Machine Learning Engineer                222\n",
       "6        Senior Data Analyst                207\n",
       "7       Senior Data Engineer                226\n",
       "8      Senior Data Scientist                215\n",
       "9          Software Engineer                239"
      ],
      "text/html": [
       "<div>\n",
       "<style scoped>\n",
       "    .dataframe tbody tr th:only-of-type {\n",
       "        vertical-align: middle;\n",
       "    }\n",
       "\n",
       "    .dataframe tbody tr th {\n",
       "        vertical-align: top;\n",
       "    }\n",
       "\n",
       "    .dataframe thead th {\n",
       "        text-align: right;\n",
       "    }\n",
       "</style>\n",
       "<table border=\"1\" class=\"dataframe\">\n",
       "  <thead>\n",
       "    <tr style=\"text-align: right;\">\n",
       "      <th></th>\n",
       "      <th>job_title_short</th>\n",
       "      <th>num_unique_skills</th>\n",
       "    </tr>\n",
       "  </thead>\n",
       "  <tbody>\n",
       "    <tr>\n",
       "      <th>0</th>\n",
       "      <td>Business Analyst</td>\n",
       "      <td>223</td>\n",
       "    </tr>\n",
       "    <tr>\n",
       "      <th>1</th>\n",
       "      <td>Cloud Engineer</td>\n",
       "      <td>213</td>\n",
       "    </tr>\n",
       "    <tr>\n",
       "      <th>2</th>\n",
       "      <td>Data Analyst</td>\n",
       "      <td>235</td>\n",
       "    </tr>\n",
       "    <tr>\n",
       "      <th>3</th>\n",
       "      <td>Data Engineer</td>\n",
       "      <td>239</td>\n",
       "    </tr>\n",
       "    <tr>\n",
       "      <th>4</th>\n",
       "      <td>Data Scientist</td>\n",
       "      <td>237</td>\n",
       "    </tr>\n",
       "    <tr>\n",
       "      <th>5</th>\n",
       "      <td>Machine Learning Engineer</td>\n",
       "      <td>222</td>\n",
       "    </tr>\n",
       "    <tr>\n",
       "      <th>6</th>\n",
       "      <td>Senior Data Analyst</td>\n",
       "      <td>207</td>\n",
       "    </tr>\n",
       "    <tr>\n",
       "      <th>7</th>\n",
       "      <td>Senior Data Engineer</td>\n",
       "      <td>226</td>\n",
       "    </tr>\n",
       "    <tr>\n",
       "      <th>8</th>\n",
       "      <td>Senior Data Scientist</td>\n",
       "      <td>215</td>\n",
       "    </tr>\n",
       "    <tr>\n",
       "      <th>9</th>\n",
       "      <td>Software Engineer</td>\n",
       "      <td>239</td>\n",
       "    </tr>\n",
       "  </tbody>\n",
       "</table>\n",
       "</div>"
      ]
     },
     "execution_count": 42,
     "metadata": {},
     "output_type": "execute_result"
    }
   ],
   "execution_count": 42
  }
 ],
 "metadata": {
  "kernelspec": {
   "display_name": "Python 3",
   "language": "python",
   "name": "python3"
  },
  "language_info": {
   "codemirror_mode": {
    "name": "ipython",
    "version": 2
   },
   "file_extension": ".py",
   "mimetype": "text/x-python",
   "name": "python",
   "nbconvert_exporter": "python",
   "pygments_lexer": "ipython2",
   "version": "2.7.6"
  }
 },
 "nbformat": 4,
 "nbformat_minor": 5
}
